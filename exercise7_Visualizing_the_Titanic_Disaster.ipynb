{
  "cells": [
    {
      "cell_type": "markdown",
      "metadata": {
        "pycharm": {
          "name": "#%% md\n"
        },
        "id": "YKV6Tcd_u3N1"
      },
      "source": [
        "# Visualizing the Titanic Disaster"
      ]
    },
    {
      "cell_type": "markdown",
      "metadata": {
        "pycharm": {
          "name": "#%% md\n"
        },
        "id": "x68uhRnPu3N4"
      },
      "source": [
        "### Introduction:\n",
        "\n",
        "This exercise is based on the titanic Disaster dataset avaiable at [Kaggle](https://www.kaggle.com/c/titanic).  \n",
        "To know more about the variables check [here](https://www.kaggle.com/c/titanic/data)\n",
        "\n",
        "\n",
        "### Step 1. Import the necessary libraries"
      ]
    },
    {
      "cell_type": "code",
      "execution_count": null,
      "metadata": {
        "pycharm": {
          "name": "#%%\n"
        },
        "id": "90KEgxGku3N5"
      },
      "outputs": [],
      "source": [
        "import pandas as pd\n",
        "import numpy as np\n",
        "import matplotlib.pyplot as plt\n",
        "import seaborn as sns"
      ]
    },
    {
      "cell_type": "markdown",
      "metadata": {
        "pycharm": {
          "name": "#%% md\n"
        },
        "id": "L3nu12Idu3N6"
      },
      "source": [
        "### Step 2. Import the dataset from this [address](https://raw.githubusercontent.com/thieu1995/csv-files/main/data/pandas/titanic_train.csv)"
      ]
    },
    {
      "cell_type": "markdown",
      "metadata": {
        "pycharm": {
          "name": "#%% md\n"
        },
        "id": "RfBpfIWsu3N6"
      },
      "source": [
        "### Step 3. Assign it to a variable titanic "
      ]
    },
    {
      "cell_type": "code",
      "execution_count": null,
      "metadata": {
        "pycharm": {
          "name": "#%%\n"
        },
        "id": "DOZUHMmpu3N7",
        "colab": {
          "base_uri": "https://localhost:8080/",
          "height": 548
        },
        "outputId": "75a9089b-7b78-4297-c1ec-5a312940b472"
      },
      "outputs": [
        {
          "output_type": "execute_result",
          "data": {
            "text/plain": [
              "   PassengerId  Survived  Pclass  \\\n",
              "0            1         0       3   \n",
              "1            2         1       1   \n",
              "2            3         1       3   \n",
              "3            4         1       1   \n",
              "4            5         0       3   \n",
              "\n",
              "                                                Name     Sex   Age  SibSp  \\\n",
              "0                            Braund, Mr. Owen Harris    male  22.0      1   \n",
              "1  Cumings, Mrs. John Bradley (Florence Briggs Th...  female  38.0      1   \n",
              "2                             Heikkinen, Miss. Laina  female  26.0      0   \n",
              "3       Futrelle, Mrs. Jacques Heath (Lily May Peel)  female  35.0      1   \n",
              "4                           Allen, Mr. William Henry    male  35.0      0   \n",
              "\n",
              "   Parch            Ticket     Fare Cabin Embarked  \n",
              "0      0         A/5 21171   7.2500   NaN        S  \n",
              "1      0          PC 17599  71.2833   C85        C  \n",
              "2      0  STON/O2. 3101282   7.9250   NaN        S  \n",
              "3      0            113803  53.1000  C123        S  \n",
              "4      0            373450   8.0500   NaN        S  "
            ],
            "text/html": [
              "\n",
              "  <div id=\"df-4c7ffe42-32a3-4a66-9d24-02811096d5bc\">\n",
              "    <div class=\"colab-df-container\">\n",
              "      <div>\n",
              "<style scoped>\n",
              "    .dataframe tbody tr th:only-of-type {\n",
              "        vertical-align: middle;\n",
              "    }\n",
              "\n",
              "    .dataframe tbody tr th {\n",
              "        vertical-align: top;\n",
              "    }\n",
              "\n",
              "    .dataframe thead th {\n",
              "        text-align: right;\n",
              "    }\n",
              "</style>\n",
              "<table border=\"1\" class=\"dataframe\">\n",
              "  <thead>\n",
              "    <tr style=\"text-align: right;\">\n",
              "      <th></th>\n",
              "      <th>PassengerId</th>\n",
              "      <th>Survived</th>\n",
              "      <th>Pclass</th>\n",
              "      <th>Name</th>\n",
              "      <th>Sex</th>\n",
              "      <th>Age</th>\n",
              "      <th>SibSp</th>\n",
              "      <th>Parch</th>\n",
              "      <th>Ticket</th>\n",
              "      <th>Fare</th>\n",
              "      <th>Cabin</th>\n",
              "      <th>Embarked</th>\n",
              "    </tr>\n",
              "  </thead>\n",
              "  <tbody>\n",
              "    <tr>\n",
              "      <th>0</th>\n",
              "      <td>1</td>\n",
              "      <td>0</td>\n",
              "      <td>3</td>\n",
              "      <td>Braund, Mr. Owen Harris</td>\n",
              "      <td>male</td>\n",
              "      <td>22.0</td>\n",
              "      <td>1</td>\n",
              "      <td>0</td>\n",
              "      <td>A/5 21171</td>\n",
              "      <td>7.2500</td>\n",
              "      <td>NaN</td>\n",
              "      <td>S</td>\n",
              "    </tr>\n",
              "    <tr>\n",
              "      <th>1</th>\n",
              "      <td>2</td>\n",
              "      <td>1</td>\n",
              "      <td>1</td>\n",
              "      <td>Cumings, Mrs. John Bradley (Florence Briggs Th...</td>\n",
              "      <td>female</td>\n",
              "      <td>38.0</td>\n",
              "      <td>1</td>\n",
              "      <td>0</td>\n",
              "      <td>PC 17599</td>\n",
              "      <td>71.2833</td>\n",
              "      <td>C85</td>\n",
              "      <td>C</td>\n",
              "    </tr>\n",
              "    <tr>\n",
              "      <th>2</th>\n",
              "      <td>3</td>\n",
              "      <td>1</td>\n",
              "      <td>3</td>\n",
              "      <td>Heikkinen, Miss. Laina</td>\n",
              "      <td>female</td>\n",
              "      <td>26.0</td>\n",
              "      <td>0</td>\n",
              "      <td>0</td>\n",
              "      <td>STON/O2. 3101282</td>\n",
              "      <td>7.9250</td>\n",
              "      <td>NaN</td>\n",
              "      <td>S</td>\n",
              "    </tr>\n",
              "    <tr>\n",
              "      <th>3</th>\n",
              "      <td>4</td>\n",
              "      <td>1</td>\n",
              "      <td>1</td>\n",
              "      <td>Futrelle, Mrs. Jacques Heath (Lily May Peel)</td>\n",
              "      <td>female</td>\n",
              "      <td>35.0</td>\n",
              "      <td>1</td>\n",
              "      <td>0</td>\n",
              "      <td>113803</td>\n",
              "      <td>53.1000</td>\n",
              "      <td>C123</td>\n",
              "      <td>S</td>\n",
              "    </tr>\n",
              "    <tr>\n",
              "      <th>4</th>\n",
              "      <td>5</td>\n",
              "      <td>0</td>\n",
              "      <td>3</td>\n",
              "      <td>Allen, Mr. William Henry</td>\n",
              "      <td>male</td>\n",
              "      <td>35.0</td>\n",
              "      <td>0</td>\n",
              "      <td>0</td>\n",
              "      <td>373450</td>\n",
              "      <td>8.0500</td>\n",
              "      <td>NaN</td>\n",
              "      <td>S</td>\n",
              "    </tr>\n",
              "  </tbody>\n",
              "</table>\n",
              "</div>\n",
              "      <button class=\"colab-df-convert\" onclick=\"convertToInteractive('df-4c7ffe42-32a3-4a66-9d24-02811096d5bc')\"\n",
              "              title=\"Convert this dataframe to an interactive table.\"\n",
              "              style=\"display:none;\">\n",
              "        \n",
              "  <svg xmlns=\"http://www.w3.org/2000/svg\" height=\"24px\"viewBox=\"0 0 24 24\"\n",
              "       width=\"24px\">\n",
              "    <path d=\"M0 0h24v24H0V0z\" fill=\"none\"/>\n",
              "    <path d=\"M18.56 5.44l.94 2.06.94-2.06 2.06-.94-2.06-.94-.94-2.06-.94 2.06-2.06.94zm-11 1L8.5 8.5l.94-2.06 2.06-.94-2.06-.94L8.5 2.5l-.94 2.06-2.06.94zm10 10l.94 2.06.94-2.06 2.06-.94-2.06-.94-.94-2.06-.94 2.06-2.06.94z\"/><path d=\"M17.41 7.96l-1.37-1.37c-.4-.4-.92-.59-1.43-.59-.52 0-1.04.2-1.43.59L10.3 9.45l-7.72 7.72c-.78.78-.78 2.05 0 2.83L4 21.41c.39.39.9.59 1.41.59.51 0 1.02-.2 1.41-.59l7.78-7.78 2.81-2.81c.8-.78.8-2.07 0-2.86zM5.41 20L4 18.59l7.72-7.72 1.47 1.35L5.41 20z\"/>\n",
              "  </svg>\n",
              "      </button>\n",
              "      \n",
              "  <style>\n",
              "    .colab-df-container {\n",
              "      display:flex;\n",
              "      flex-wrap:wrap;\n",
              "      gap: 12px;\n",
              "    }\n",
              "\n",
              "    .colab-df-convert {\n",
              "      background-color: #E8F0FE;\n",
              "      border: none;\n",
              "      border-radius: 50%;\n",
              "      cursor: pointer;\n",
              "      display: none;\n",
              "      fill: #1967D2;\n",
              "      height: 32px;\n",
              "      padding: 0 0 0 0;\n",
              "      width: 32px;\n",
              "    }\n",
              "\n",
              "    .colab-df-convert:hover {\n",
              "      background-color: #E2EBFA;\n",
              "      box-shadow: 0px 1px 2px rgba(60, 64, 67, 0.3), 0px 1px 3px 1px rgba(60, 64, 67, 0.15);\n",
              "      fill: #174EA6;\n",
              "    }\n",
              "\n",
              "    [theme=dark] .colab-df-convert {\n",
              "      background-color: #3B4455;\n",
              "      fill: #D2E3FC;\n",
              "    }\n",
              "\n",
              "    [theme=dark] .colab-df-convert:hover {\n",
              "      background-color: #434B5C;\n",
              "      box-shadow: 0px 1px 3px 1px rgba(0, 0, 0, 0.15);\n",
              "      filter: drop-shadow(0px 1px 2px rgba(0, 0, 0, 0.3));\n",
              "      fill: #FFFFFF;\n",
              "    }\n",
              "  </style>\n",
              "\n",
              "      <script>\n",
              "        const buttonEl =\n",
              "          document.querySelector('#df-4c7ffe42-32a3-4a66-9d24-02811096d5bc button.colab-df-convert');\n",
              "        buttonEl.style.display =\n",
              "          google.colab.kernel.accessAllowed ? 'block' : 'none';\n",
              "\n",
              "        async function convertToInteractive(key) {\n",
              "          const element = document.querySelector('#df-4c7ffe42-32a3-4a66-9d24-02811096d5bc');\n",
              "          const dataTable =\n",
              "            await google.colab.kernel.invokeFunction('convertToInteractive',\n",
              "                                                     [key], {});\n",
              "          if (!dataTable) return;\n",
              "\n",
              "          const docLinkHtml = 'Like what you see? Visit the ' +\n",
              "            '<a target=\"_blank\" href=https://colab.research.google.com/notebooks/data_table.ipynb>data table notebook</a>'\n",
              "            + ' to learn more about interactive tables.';\n",
              "          element.innerHTML = '';\n",
              "          dataTable['output_type'] = 'display_data';\n",
              "          await google.colab.output.renderOutput(dataTable, element);\n",
              "          const docLink = document.createElement('div');\n",
              "          docLink.innerHTML = docLinkHtml;\n",
              "          element.appendChild(docLink);\n",
              "        }\n",
              "      </script>\n",
              "    </div>\n",
              "  </div>\n",
              "  "
            ]
          },
          "metadata": {},
          "execution_count": 2
        }
      ],
      "source": [
        "titanic = pd.read_csv(\"https://raw.githubusercontent.com/guipsamora/pandas_exercises/master/07_Visualization/Titanic_Desaster/train.csv\")\n",
        "titanic.head()"
      ]
    },
    {
      "cell_type": "markdown",
      "metadata": {
        "pycharm": {
          "name": "#%% md\n"
        },
        "id": "2CcH5ib5u3N7"
      },
      "source": [
        "### Step 4. Set PassengerId as the index "
      ]
    },
    {
      "cell_type": "code",
      "execution_count": null,
      "metadata": {
        "pycharm": {
          "name": "#%%\n"
        },
        "id": "m9d9Xy8Lu3N7",
        "colab": {
          "base_uri": "https://localhost:8080/",
          "height": 1000
        },
        "outputId": "98db5a6f-7748-4533-f60f-5f95f0e70c16"
      },
      "outputs": [
        {
          "output_type": "execute_result",
          "data": {
            "text/plain": [
              "             Survived  Pclass  \\\n",
              "PassengerId                     \n",
              "1                   0       3   \n",
              "2                   1       1   \n",
              "3                   1       3   \n",
              "4                   1       1   \n",
              "5                   0       3   \n",
              "...               ...     ...   \n",
              "887                 0       2   \n",
              "888                 1       1   \n",
              "889                 0       3   \n",
              "890                 1       1   \n",
              "891                 0       3   \n",
              "\n",
              "                                                          Name     Sex   Age  \\\n",
              "PassengerId                                                                    \n",
              "1                                      Braund, Mr. Owen Harris    male  22.0   \n",
              "2            Cumings, Mrs. John Bradley (Florence Briggs Th...  female  38.0   \n",
              "3                                       Heikkinen, Miss. Laina  female  26.0   \n",
              "4                 Futrelle, Mrs. Jacques Heath (Lily May Peel)  female  35.0   \n",
              "5                                     Allen, Mr. William Henry    male  35.0   \n",
              "...                                                        ...     ...   ...   \n",
              "887                                      Montvila, Rev. Juozas    male  27.0   \n",
              "888                               Graham, Miss. Margaret Edith  female  19.0   \n",
              "889                   Johnston, Miss. Catherine Helen \"Carrie\"  female   NaN   \n",
              "890                                      Behr, Mr. Karl Howell    male  26.0   \n",
              "891                                        Dooley, Mr. Patrick    male  32.0   \n",
              "\n",
              "             SibSp  Parch            Ticket     Fare Cabin Embarked  \n",
              "PassengerId                                                          \n",
              "1                1      0         A/5 21171   7.2500   NaN        S  \n",
              "2                1      0          PC 17599  71.2833   C85        C  \n",
              "3                0      0  STON/O2. 3101282   7.9250   NaN        S  \n",
              "4                1      0            113803  53.1000  C123        S  \n",
              "5                0      0            373450   8.0500   NaN        S  \n",
              "...            ...    ...               ...      ...   ...      ...  \n",
              "887              0      0            211536  13.0000   NaN        S  \n",
              "888              0      0            112053  30.0000   B42        S  \n",
              "889              1      2        W./C. 6607  23.4500   NaN        S  \n",
              "890              0      0            111369  30.0000  C148        C  \n",
              "891              0      0            370376   7.7500   NaN        Q  \n",
              "\n",
              "[891 rows x 11 columns]"
            ],
            "text/html": [
              "\n",
              "  <div id=\"df-036db014-5cd0-452a-91a0-2fcb90c348f6\">\n",
              "    <div class=\"colab-df-container\">\n",
              "      <div>\n",
              "<style scoped>\n",
              "    .dataframe tbody tr th:only-of-type {\n",
              "        vertical-align: middle;\n",
              "    }\n",
              "\n",
              "    .dataframe tbody tr th {\n",
              "        vertical-align: top;\n",
              "    }\n",
              "\n",
              "    .dataframe thead th {\n",
              "        text-align: right;\n",
              "    }\n",
              "</style>\n",
              "<table border=\"1\" class=\"dataframe\">\n",
              "  <thead>\n",
              "    <tr style=\"text-align: right;\">\n",
              "      <th></th>\n",
              "      <th>Survived</th>\n",
              "      <th>Pclass</th>\n",
              "      <th>Name</th>\n",
              "      <th>Sex</th>\n",
              "      <th>Age</th>\n",
              "      <th>SibSp</th>\n",
              "      <th>Parch</th>\n",
              "      <th>Ticket</th>\n",
              "      <th>Fare</th>\n",
              "      <th>Cabin</th>\n",
              "      <th>Embarked</th>\n",
              "    </tr>\n",
              "    <tr>\n",
              "      <th>PassengerId</th>\n",
              "      <th></th>\n",
              "      <th></th>\n",
              "      <th></th>\n",
              "      <th></th>\n",
              "      <th></th>\n",
              "      <th></th>\n",
              "      <th></th>\n",
              "      <th></th>\n",
              "      <th></th>\n",
              "      <th></th>\n",
              "      <th></th>\n",
              "    </tr>\n",
              "  </thead>\n",
              "  <tbody>\n",
              "    <tr>\n",
              "      <th>1</th>\n",
              "      <td>0</td>\n",
              "      <td>3</td>\n",
              "      <td>Braund, Mr. Owen Harris</td>\n",
              "      <td>male</td>\n",
              "      <td>22.0</td>\n",
              "      <td>1</td>\n",
              "      <td>0</td>\n",
              "      <td>A/5 21171</td>\n",
              "      <td>7.2500</td>\n",
              "      <td>NaN</td>\n",
              "      <td>S</td>\n",
              "    </tr>\n",
              "    <tr>\n",
              "      <th>2</th>\n",
              "      <td>1</td>\n",
              "      <td>1</td>\n",
              "      <td>Cumings, Mrs. John Bradley (Florence Briggs Th...</td>\n",
              "      <td>female</td>\n",
              "      <td>38.0</td>\n",
              "      <td>1</td>\n",
              "      <td>0</td>\n",
              "      <td>PC 17599</td>\n",
              "      <td>71.2833</td>\n",
              "      <td>C85</td>\n",
              "      <td>C</td>\n",
              "    </tr>\n",
              "    <tr>\n",
              "      <th>3</th>\n",
              "      <td>1</td>\n",
              "      <td>3</td>\n",
              "      <td>Heikkinen, Miss. Laina</td>\n",
              "      <td>female</td>\n",
              "      <td>26.0</td>\n",
              "      <td>0</td>\n",
              "      <td>0</td>\n",
              "      <td>STON/O2. 3101282</td>\n",
              "      <td>7.9250</td>\n",
              "      <td>NaN</td>\n",
              "      <td>S</td>\n",
              "    </tr>\n",
              "    <tr>\n",
              "      <th>4</th>\n",
              "      <td>1</td>\n",
              "      <td>1</td>\n",
              "      <td>Futrelle, Mrs. Jacques Heath (Lily May Peel)</td>\n",
              "      <td>female</td>\n",
              "      <td>35.0</td>\n",
              "      <td>1</td>\n",
              "      <td>0</td>\n",
              "      <td>113803</td>\n",
              "      <td>53.1000</td>\n",
              "      <td>C123</td>\n",
              "      <td>S</td>\n",
              "    </tr>\n",
              "    <tr>\n",
              "      <th>5</th>\n",
              "      <td>0</td>\n",
              "      <td>3</td>\n",
              "      <td>Allen, Mr. William Henry</td>\n",
              "      <td>male</td>\n",
              "      <td>35.0</td>\n",
              "      <td>0</td>\n",
              "      <td>0</td>\n",
              "      <td>373450</td>\n",
              "      <td>8.0500</td>\n",
              "      <td>NaN</td>\n",
              "      <td>S</td>\n",
              "    </tr>\n",
              "    <tr>\n",
              "      <th>...</th>\n",
              "      <td>...</td>\n",
              "      <td>...</td>\n",
              "      <td>...</td>\n",
              "      <td>...</td>\n",
              "      <td>...</td>\n",
              "      <td>...</td>\n",
              "      <td>...</td>\n",
              "      <td>...</td>\n",
              "      <td>...</td>\n",
              "      <td>...</td>\n",
              "      <td>...</td>\n",
              "    </tr>\n",
              "    <tr>\n",
              "      <th>887</th>\n",
              "      <td>0</td>\n",
              "      <td>2</td>\n",
              "      <td>Montvila, Rev. Juozas</td>\n",
              "      <td>male</td>\n",
              "      <td>27.0</td>\n",
              "      <td>0</td>\n",
              "      <td>0</td>\n",
              "      <td>211536</td>\n",
              "      <td>13.0000</td>\n",
              "      <td>NaN</td>\n",
              "      <td>S</td>\n",
              "    </tr>\n",
              "    <tr>\n",
              "      <th>888</th>\n",
              "      <td>1</td>\n",
              "      <td>1</td>\n",
              "      <td>Graham, Miss. Margaret Edith</td>\n",
              "      <td>female</td>\n",
              "      <td>19.0</td>\n",
              "      <td>0</td>\n",
              "      <td>0</td>\n",
              "      <td>112053</td>\n",
              "      <td>30.0000</td>\n",
              "      <td>B42</td>\n",
              "      <td>S</td>\n",
              "    </tr>\n",
              "    <tr>\n",
              "      <th>889</th>\n",
              "      <td>0</td>\n",
              "      <td>3</td>\n",
              "      <td>Johnston, Miss. Catherine Helen \"Carrie\"</td>\n",
              "      <td>female</td>\n",
              "      <td>NaN</td>\n",
              "      <td>1</td>\n",
              "      <td>2</td>\n",
              "      <td>W./C. 6607</td>\n",
              "      <td>23.4500</td>\n",
              "      <td>NaN</td>\n",
              "      <td>S</td>\n",
              "    </tr>\n",
              "    <tr>\n",
              "      <th>890</th>\n",
              "      <td>1</td>\n",
              "      <td>1</td>\n",
              "      <td>Behr, Mr. Karl Howell</td>\n",
              "      <td>male</td>\n",
              "      <td>26.0</td>\n",
              "      <td>0</td>\n",
              "      <td>0</td>\n",
              "      <td>111369</td>\n",
              "      <td>30.0000</td>\n",
              "      <td>C148</td>\n",
              "      <td>C</td>\n",
              "    </tr>\n",
              "    <tr>\n",
              "      <th>891</th>\n",
              "      <td>0</td>\n",
              "      <td>3</td>\n",
              "      <td>Dooley, Mr. Patrick</td>\n",
              "      <td>male</td>\n",
              "      <td>32.0</td>\n",
              "      <td>0</td>\n",
              "      <td>0</td>\n",
              "      <td>370376</td>\n",
              "      <td>7.7500</td>\n",
              "      <td>NaN</td>\n",
              "      <td>Q</td>\n",
              "    </tr>\n",
              "  </tbody>\n",
              "</table>\n",
              "<p>891 rows × 11 columns</p>\n",
              "</div>\n",
              "      <button class=\"colab-df-convert\" onclick=\"convertToInteractive('df-036db014-5cd0-452a-91a0-2fcb90c348f6')\"\n",
              "              title=\"Convert this dataframe to an interactive table.\"\n",
              "              style=\"display:none;\">\n",
              "        \n",
              "  <svg xmlns=\"http://www.w3.org/2000/svg\" height=\"24px\"viewBox=\"0 0 24 24\"\n",
              "       width=\"24px\">\n",
              "    <path d=\"M0 0h24v24H0V0z\" fill=\"none\"/>\n",
              "    <path d=\"M18.56 5.44l.94 2.06.94-2.06 2.06-.94-2.06-.94-.94-2.06-.94 2.06-2.06.94zm-11 1L8.5 8.5l.94-2.06 2.06-.94-2.06-.94L8.5 2.5l-.94 2.06-2.06.94zm10 10l.94 2.06.94-2.06 2.06-.94-2.06-.94-.94-2.06-.94 2.06-2.06.94z\"/><path d=\"M17.41 7.96l-1.37-1.37c-.4-.4-.92-.59-1.43-.59-.52 0-1.04.2-1.43.59L10.3 9.45l-7.72 7.72c-.78.78-.78 2.05 0 2.83L4 21.41c.39.39.9.59 1.41.59.51 0 1.02-.2 1.41-.59l7.78-7.78 2.81-2.81c.8-.78.8-2.07 0-2.86zM5.41 20L4 18.59l7.72-7.72 1.47 1.35L5.41 20z\"/>\n",
              "  </svg>\n",
              "      </button>\n",
              "      \n",
              "  <style>\n",
              "    .colab-df-container {\n",
              "      display:flex;\n",
              "      flex-wrap:wrap;\n",
              "      gap: 12px;\n",
              "    }\n",
              "\n",
              "    .colab-df-convert {\n",
              "      background-color: #E8F0FE;\n",
              "      border: none;\n",
              "      border-radius: 50%;\n",
              "      cursor: pointer;\n",
              "      display: none;\n",
              "      fill: #1967D2;\n",
              "      height: 32px;\n",
              "      padding: 0 0 0 0;\n",
              "      width: 32px;\n",
              "    }\n",
              "\n",
              "    .colab-df-convert:hover {\n",
              "      background-color: #E2EBFA;\n",
              "      box-shadow: 0px 1px 2px rgba(60, 64, 67, 0.3), 0px 1px 3px 1px rgba(60, 64, 67, 0.15);\n",
              "      fill: #174EA6;\n",
              "    }\n",
              "\n",
              "    [theme=dark] .colab-df-convert {\n",
              "      background-color: #3B4455;\n",
              "      fill: #D2E3FC;\n",
              "    }\n",
              "\n",
              "    [theme=dark] .colab-df-convert:hover {\n",
              "      background-color: #434B5C;\n",
              "      box-shadow: 0px 1px 3px 1px rgba(0, 0, 0, 0.15);\n",
              "      filter: drop-shadow(0px 1px 2px rgba(0, 0, 0, 0.3));\n",
              "      fill: #FFFFFF;\n",
              "    }\n",
              "  </style>\n",
              "\n",
              "      <script>\n",
              "        const buttonEl =\n",
              "          document.querySelector('#df-036db014-5cd0-452a-91a0-2fcb90c348f6 button.colab-df-convert');\n",
              "        buttonEl.style.display =\n",
              "          google.colab.kernel.accessAllowed ? 'block' : 'none';\n",
              "\n",
              "        async function convertToInteractive(key) {\n",
              "          const element = document.querySelector('#df-036db014-5cd0-452a-91a0-2fcb90c348f6');\n",
              "          const dataTable =\n",
              "            await google.colab.kernel.invokeFunction('convertToInteractive',\n",
              "                                                     [key], {});\n",
              "          if (!dataTable) return;\n",
              "\n",
              "          const docLinkHtml = 'Like what you see? Visit the ' +\n",
              "            '<a target=\"_blank\" href=https://colab.research.google.com/notebooks/data_table.ipynb>data table notebook</a>'\n",
              "            + ' to learn more about interactive tables.';\n",
              "          element.innerHTML = '';\n",
              "          dataTable['output_type'] = 'display_data';\n",
              "          await google.colab.output.renderOutput(dataTable, element);\n",
              "          const docLink = document.createElement('div');\n",
              "          docLink.innerHTML = docLinkHtml;\n",
              "          element.appendChild(docLink);\n",
              "        }\n",
              "      </script>\n",
              "    </div>\n",
              "  </div>\n",
              "  "
            ]
          },
          "metadata": {},
          "execution_count": 6
        }
      ],
      "source": [
        "titanic.set_index(\"PassengerId\")\n"
      ]
    },
    {
      "cell_type": "markdown",
      "metadata": {
        "pycharm": {
          "name": "#%% md\n"
        },
        "id": "9FHaRsolu3N8"
      },
      "source": [
        "### Step 5. Create a pie chart presenting the male/female proportion"
      ]
    },
    {
      "cell_type": "code",
      "execution_count": null,
      "metadata": {
        "pycharm": {
          "name": "#%%\n"
        },
        "id": "5wU5JmUTu3N8",
        "colab": {
          "base_uri": "https://localhost:8080/",
          "height": 487
        },
        "outputId": "98b40d9e-a0c4-48e0-bf12-d77c6a5b9ade"
      },
      "outputs": [
        {
          "output_type": "display_data",
          "data": {
            "text/plain": [
              "<Figure size 640x480 with 1 Axes>"
            ],
            "image/png": "[encoded data removed]"
          },
          "metadata": {}
        }
      ],
      "source": [
        "males = (titanic[\"Sex\"] == \"male\").sum()\n",
        "females = (titanic[\"Sex\"] == \"female\").sum()\n",
        "\n",
        "proportion = [males, females]\n",
        "\n",
        "plt.pie(proportion, labels = [\"Males\", \"Females\"], shadow = False, colors = [\"blue\", \"red\"], explode = (0.15, 0),\n",
        "       startangle = 90, autopct = \"%1.1f%%\")\n",
        "plt.axis(\"equal\")\n",
        "plt.title(\"Sex proportion\")\n",
        "plt.tight_layout()\n",
        "plt.show()"
      ]
    },
    {
      "cell_type": "markdown",
      "metadata": {
        "pycharm": {
          "name": "#%% md\n"
        },
        "id": "UZFordGgu3N8"
      },
      "source": [
        "### Step 6. Create a scatterplot with the Fare payed and the Age, differ the plot color by gender"
      ]
    },
    {
      "cell_type": "code",
      "execution_count": null,
      "metadata": {
        "pycharm": {
          "name": "#%%\n"
        },
        "id": "D8qalcDxu3N9",
        "colab": {
          "base_uri": "https://localhost:8080/",
          "height": 546
        },
        "outputId": "850f6696-f3c8-4d22-f302-b2a006d091b1"
      },
      "outputs": [
        {
          "output_type": "execute_result",
          "data": {
            "text/plain": [
              "(-5.0, 85.0)"
            ]
          },
          "metadata": {},
          "execution_count": 8
        },
        {
          "output_type": "display_data",
          "data": {
            "text/plain": [
              "<Figure size 598x500 with 1 Axes>"
            ],
            "image/png": "[encoded data removed]"
          },
          "metadata": {}
        }
      ],
      "source": [
        "g = sns.lmplot( x = \"Age\", y = \"Fare\", data = titanic, hue = \"Sex\", fit_reg = False)\n",
        "g.set(title = \"Age & Fare\")\n",
        "axes = g.axes\n",
        "axes[0,0].set_ylim(-5,)\n",
        "axes[0,0].set_xlim(-5,85)"
      ]
    },
    {
      "cell_type": "markdown",
      "metadata": {
        "pycharm": {
          "name": "#%% md\n"
        },
        "id": "HNL7eKYGu3N9"
      },
      "source": [
        "### Step 7. How many people survived?"
      ]
    },
    {
      "cell_type": "code",
      "execution_count": null,
      "metadata": {
        "pycharm": {
          "name": "#%%\n"
        },
        "id": "dHsJdRRsu3N9",
        "colab": {
          "base_uri": "https://localhost:8080/"
        },
        "outputId": "8098e6ec-01e6-46ab-e890-668c595298f8"
      },
      "outputs": [
        {
          "output_type": "execute_result",
          "data": {
            "text/plain": [
              "342"
            ]
          },
          "metadata": {},
          "execution_count": 9
        }
      ],
      "source": [
        "titanic.Survived.sum()"
      ]
    },
    {
      "cell_type": "markdown",
      "metadata": {
        "pycharm": {
          "name": "#%% md\n"
        },
        "id": "sx93zx-ru3N9"
      },
      "source": [
        "### Step 8. Create a histogram with the Fare payed"
      ]
    },
    {
      "cell_type": "code",
      "execution_count": null,
      "metadata": {
        "pycharm": {
          "name": "#%%\n"
        },
        "id": "McOlH4n4u3N-",
        "colab": {
          "base_uri": "https://localhost:8080/",
          "height": 1000
        },
        "outputId": "e48e2452-20b3-4d2d-82f8-284189e2c8e9"
      },
      "outputs": [
        {
          "output_type": "error",
          "ename": "ConversionError",
          "evalue": "ignored",
          "traceback": [
            "\u001b[0;31m---------------------------------------------------------------------------\u001b[0m",
            "\u001b[0;31mValueError\u001b[0m                                Traceback (most recent call last)",
            "\u001b[0;32m/usr/local/lib/python3.10/dist-packages/matplotlib/axis.py\u001b[0m in \u001b[0;36mconvert_units\u001b[0;34m(self, x)\u001b[0m\n\u001b[1;32m   1731\u001b[0m         \u001b[0;32mtry\u001b[0m\u001b[0;34m:\u001b[0m\u001b[0;34m\u001b[0m\u001b[0;34m\u001b[0m\u001b[0m\n\u001b[0;32m-> 1732\u001b[0;31m             \u001b[0mret\u001b[0m \u001b[0;34m=\u001b[0m \u001b[0mself\u001b[0m\u001b[0;34m.\u001b[0m\u001b[0mconverter\u001b[0m\u001b[0;34m.\u001b[0m\u001b[0mconvert\u001b[0m\u001b[0;34m(\u001b[0m\u001b[0mx\u001b[0m\u001b[0;34m,\u001b[0m \u001b[0mself\u001b[0m\u001b[0;34m.\u001b[0m\u001b[0munits\u001b[0m\u001b[0;34m,\u001b[0m \u001b[0mself\u001b[0m\u001b[0;34m)\u001b[0m\u001b[0;34m\u001b[0m\u001b[0;34m\u001b[0m\u001b[0m\n\u001b[0m\u001b[1;32m   1733\u001b[0m         \u001b[0;32mexcept\u001b[0m \u001b[0mException\u001b[0m \u001b[0;32mas\u001b[0m \u001b[0me\u001b[0m\u001b[0;34m:\u001b[0m\u001b[0;34m\u001b[0m\u001b[0;34m\u001b[0m\u001b[0m\n",
            "\u001b[0;32m/usr/local/lib/python3.10/dist-packages/matplotlib/category.py\u001b[0m in \u001b[0;36mconvert\u001b[0;34m(value, unit, axis)\u001b[0m\n\u001b[1;32m     48\u001b[0m         \u001b[0;32mif\u001b[0m \u001b[0munit\u001b[0m \u001b[0;32mis\u001b[0m \u001b[0;32mNone\u001b[0m\u001b[0;34m:\u001b[0m\u001b[0;34m\u001b[0m\u001b[0;34m\u001b[0m\u001b[0m\n\u001b[0;32m---> 49\u001b[0;31m             raise ValueError(\n\u001b[0m\u001b[1;32m     50\u001b[0m                 \u001b[0;34m'Missing category information for StrCategoryConverter; '\u001b[0m\u001b[0;34m\u001b[0m\u001b[0;34m\u001b[0m\u001b[0m\n",
            "\u001b[0;31mValueError\u001b[0m: Missing category information for StrCategoryConverter; this might be caused by unintendedly mixing categorical and numeric data",
            "\nThe above exception was the direct cause of the following exception:\n",
            "\u001b[0;31mConversionError\u001b[0m                           Traceback (most recent call last)",
            "\u001b[0;32m<ipython-input-11-0c7f0f839cc5>\u001b[0m in \u001b[0;36m<cell line: 4>\u001b[0;34m()\u001b[0m\n\u001b[1;32m      2\u001b[0m \u001b[0mbinsVal\u001b[0m \u001b[0;34m=\u001b[0m \u001b[0mnp\u001b[0m\u001b[0;34m.\u001b[0m\u001b[0marange\u001b[0m\u001b[0;34m(\u001b[0m\u001b[0;36m0\u001b[0m\u001b[0;34m,\u001b[0m\u001b[0;36m600\u001b[0m\u001b[0;34m,\u001b[0m\u001b[0;36m10\u001b[0m\u001b[0;34m)\u001b[0m\u001b[0;34m\u001b[0m\u001b[0;34m\u001b[0m\u001b[0m\n\u001b[1;32m      3\u001b[0m \u001b[0mbinsVal\u001b[0m\u001b[0;34m\u001b[0m\u001b[0;34m\u001b[0m\u001b[0m\n\u001b[0;32m----> 4\u001b[0;31m \u001b[0mplt\u001b[0m\u001b[0;34m.\u001b[0m\u001b[0mhist\u001b[0m\u001b[0;34m(\u001b[0m\u001b[0mtitanic\u001b[0m\u001b[0;34m,\u001b[0m \u001b[0mbins\u001b[0m \u001b[0;34m=\u001b[0m \u001b[0mbinsVal\u001b[0m\u001b[0;34m)\u001b[0m\u001b[0;34m\u001b[0m\u001b[0;34m\u001b[0m\u001b[0m\n\u001b[0m\u001b[1;32m      5\u001b[0m \u001b[0;34m\u001b[0m\u001b[0m\n\u001b[1;32m      6\u001b[0m \u001b[0mplt\u001b[0m\u001b[0;34m.\u001b[0m\u001b[0mxlabel\u001b[0m\u001b[0;34m(\u001b[0m\u001b[0;34m'Fare'\u001b[0m\u001b[0;34m)\u001b[0m\u001b[0;34m\u001b[0m\u001b[0;34m\u001b[0m\u001b[0m\n",
            "\u001b[0;32m/usr/local/lib/python3.10/dist-packages/matplotlib/pyplot.py\u001b[0m in \u001b[0;36mhist\u001b[0;34m(x, bins, range, density, weights, cumulative, bottom, histtype, align, orientation, rwidth, log, color, label, stacked, data, **kwargs)\u001b[0m\n\u001b[1;32m   2643\u001b[0m         \u001b[0morientation\u001b[0m\u001b[0;34m=\u001b[0m\u001b[0;34m'vertical'\u001b[0m\u001b[0;34m,\u001b[0m \u001b[0mrwidth\u001b[0m\u001b[0;34m=\u001b[0m\u001b[0;32mNone\u001b[0m\u001b[0;34m,\u001b[0m \u001b[0mlog\u001b[0m\u001b[0;34m=\u001b[0m\u001b[0;32mFalse\u001b[0m\u001b[0;34m,\u001b[0m \u001b[0mcolor\u001b[0m\u001b[0;34m=\u001b[0m\u001b[0;32mNone\u001b[0m\u001b[0;34m,\u001b[0m\u001b[0;34m\u001b[0m\u001b[0;34m\u001b[0m\u001b[0m\n\u001b[1;32m   2644\u001b[0m         label=None, stacked=False, *, data=None, **kwargs):\n\u001b[0;32m-> 2645\u001b[0;31m     return gca().hist(\n\u001b[0m\u001b[1;32m   2646\u001b[0m         \u001b[0mx\u001b[0m\u001b[0;34m,\u001b[0m \u001b[0mbins\u001b[0m\u001b[0;34m=\u001b[0m\u001b[0mbins\u001b[0m\u001b[0;34m,\u001b[0m \u001b[0mrange\u001b[0m\u001b[0;34m=\u001b[0m\u001b[0mrange\u001b[0m\u001b[0;34m,\u001b[0m \u001b[0mdensity\u001b[0m\u001b[0;34m=\u001b[0m\u001b[0mdensity\u001b[0m\u001b[0;34m,\u001b[0m \u001b[0mweights\u001b[0m\u001b[0;34m=\u001b[0m\u001b[0mweights\u001b[0m\u001b[0;34m,\u001b[0m\u001b[0;34m\u001b[0m\u001b[0;34m\u001b[0m\u001b[0m\n\u001b[1;32m   2647\u001b[0m         \u001b[0mcumulative\u001b[0m\u001b[0;34m=\u001b[0m\u001b[0mcumulative\u001b[0m\u001b[0;34m,\u001b[0m \u001b[0mbottom\u001b[0m\u001b[0;34m=\u001b[0m\u001b[0mbottom\u001b[0m\u001b[0;34m,\u001b[0m \u001b[0mhisttype\u001b[0m\u001b[0;34m=\u001b[0m\u001b[0mhisttype\u001b[0m\u001b[0;34m,\u001b[0m\u001b[0;34m\u001b[0m\u001b[0;34m\u001b[0m\u001b[0m\n",
            "\u001b[0;32m/usr/local/lib/python3.10/dist-packages/matplotlib/__init__.py\u001b[0m in \u001b[0;36minner\u001b[0;34m(ax, data, *args, **kwargs)\u001b[0m\n\u001b[1;32m   1440\u001b[0m     \u001b[0;32mdef\u001b[0m \u001b[0minner\u001b[0m\u001b[0;34m(\u001b[0m\u001b[0max\u001b[0m\u001b[0;34m,\u001b[0m \u001b[0;34m*\u001b[0m\u001b[0margs\u001b[0m\u001b[0;34m,\u001b[0m \u001b[0mdata\u001b[0m\u001b[0;34m=\u001b[0m\u001b[0;32mNone\u001b[0m\u001b[0;34m,\u001b[0m \u001b[0;34m**\u001b[0m\u001b[0mkwargs\u001b[0m\u001b[0;34m)\u001b[0m\u001b[0;34m:\u001b[0m\u001b[0;34m\u001b[0m\u001b[0;34m\u001b[0m\u001b[0m\n\u001b[1;32m   1441\u001b[0m         \u001b[0;32mif\u001b[0m \u001b[0mdata\u001b[0m \u001b[0;32mis\u001b[0m \u001b[0;32mNone\u001b[0m\u001b[0;34m:\u001b[0m\u001b[0;34m\u001b[0m\u001b[0;34m\u001b[0m\u001b[0m\n\u001b[0;32m-> 1442\u001b[0;31m             \u001b[0;32mreturn\u001b[0m \u001b[0mfunc\u001b[0m\u001b[0;34m(\u001b[0m\u001b[0max\u001b[0m\u001b[0;34m,\u001b[0m \u001b[0;34m*\u001b[0m\u001b[0mmap\u001b[0m\u001b[0;34m(\u001b[0m\u001b[0msanitize_sequence\u001b[0m\u001b[0;34m,\u001b[0m \u001b[0margs\u001b[0m\u001b[0;34m)\u001b[0m\u001b[0;34m,\u001b[0m \u001b[0;34m**\u001b[0m\u001b[0mkwargs\u001b[0m\u001b[0;34m)\u001b[0m\u001b[0;34m\u001b[0m\u001b[0;34m\u001b[0m\u001b[0m\n\u001b[0m\u001b[1;32m   1443\u001b[0m \u001b[0;34m\u001b[0m\u001b[0m\n\u001b[1;32m   1444\u001b[0m         \u001b[0mbound\u001b[0m \u001b[0;34m=\u001b[0m \u001b[0mnew_sig\u001b[0m\u001b[0;34m.\u001b[0m\u001b[0mbind\u001b[0m\u001b[0;34m(\u001b[0m\u001b[0max\u001b[0m\u001b[0;34m,\u001b[0m \u001b[0;34m*\u001b[0m\u001b[0margs\u001b[0m\u001b[0;34m,\u001b[0m \u001b[0;34m**\u001b[0m\u001b[0mkwargs\u001b[0m\u001b[0;34m)\u001b[0m\u001b[0;34m\u001b[0m\u001b[0;34m\u001b[0m\u001b[0m\n",
            "\u001b[0;32m/usr/local/lib/python3.10/dist-packages/matplotlib/axes/_axes.py\u001b[0m in \u001b[0;36mhist\u001b[0;34m(self, x, bins, range, density, weights, cumulative, bottom, histtype, align, orientation, rwidth, log, color, label, stacked, **kwargs)\u001b[0m\n\u001b[1;32m   6709\u001b[0m         \u001b[0;32mif\u001b[0m \u001b[0morientation\u001b[0m \u001b[0;34m==\u001b[0m \u001b[0;34m\"vertical\"\u001b[0m\u001b[0;34m:\u001b[0m\u001b[0;34m\u001b[0m\u001b[0;34m\u001b[0m\u001b[0m\n\u001b[1;32m   6710\u001b[0m             \u001b[0mconvert_units\u001b[0m \u001b[0;34m=\u001b[0m \u001b[0mself\u001b[0m\u001b[0;34m.\u001b[0m\u001b[0mconvert_xunits\u001b[0m\u001b[0;34m\u001b[0m\u001b[0;34m\u001b[0m\u001b[0m\n\u001b[0;32m-> 6711\u001b[0;31m             x = [*self._process_unit_info([(\"x\", x[0])], kwargs),\n\u001b[0m\u001b[1;32m   6712\u001b[0m                  *map(convert_units, x[1:])]\n\u001b[1;32m   6713\u001b[0m         \u001b[0;32melse\u001b[0m\u001b[0;34m:\u001b[0m  \u001b[0;31m# horizontal\u001b[0m\u001b[0;34m\u001b[0m\u001b[0;34m\u001b[0m\u001b[0m\n",
            "\u001b[0;32m/usr/local/lib/python3.10/dist-packages/matplotlib/artist.py\u001b[0m in \u001b[0;36mconvert_xunits\u001b[0;34m(self, x)\u001b[0m\n\u001b[1;32m    279\u001b[0m         \u001b[0;32mif\u001b[0m \u001b[0max\u001b[0m \u001b[0;32mis\u001b[0m \u001b[0;32mNone\u001b[0m \u001b[0;32mor\u001b[0m \u001b[0max\u001b[0m\u001b[0;34m.\u001b[0m\u001b[0mxaxis\u001b[0m \u001b[0;32mis\u001b[0m \u001b[0;32mNone\u001b[0m\u001b[0;34m:\u001b[0m\u001b[0;34m\u001b[0m\u001b[0;34m\u001b[0m\u001b[0m\n\u001b[1;32m    280\u001b[0m             \u001b[0;32mreturn\u001b[0m \u001b[0mx\u001b[0m\u001b[0;34m\u001b[0m\u001b[0;34m\u001b[0m\u001b[0m\n\u001b[0;32m--> 281\u001b[0;31m         \u001b[0;32mreturn\u001b[0m \u001b[0max\u001b[0m\u001b[0;34m.\u001b[0m\u001b[0mxaxis\u001b[0m\u001b[0;34m.\u001b[0m\u001b[0mconvert_units\u001b[0m\u001b[0;34m(\u001b[0m\u001b[0mx\u001b[0m\u001b[0;34m)\u001b[0m\u001b[0;34m\u001b[0m\u001b[0;34m\u001b[0m\u001b[0m\n\u001b[0m\u001b[1;32m    282\u001b[0m \u001b[0;34m\u001b[0m\u001b[0m\n\u001b[1;32m    283\u001b[0m     \u001b[0;32mdef\u001b[0m \u001b[0mconvert_yunits\u001b[0m\u001b[0;34m(\u001b[0m\u001b[0mself\u001b[0m\u001b[0;34m,\u001b[0m \u001b[0my\u001b[0m\u001b[0;34m)\u001b[0m\u001b[0;34m:\u001b[0m\u001b[0;34m\u001b[0m\u001b[0;34m\u001b[0m\u001b[0m\n",
            "\u001b[0;32m/usr/local/lib/python3.10/dist-packages/matplotlib/axis.py\u001b[0m in \u001b[0;36mconvert_units\u001b[0;34m(self, x)\u001b[0m\n\u001b[1;32m   1732\u001b[0m             \u001b[0mret\u001b[0m \u001b[0;34m=\u001b[0m \u001b[0mself\u001b[0m\u001b[0;34m.\u001b[0m\u001b[0mconverter\u001b[0m\u001b[0;34m.\u001b[0m\u001b[0mconvert\u001b[0m\u001b[0;34m(\u001b[0m\u001b[0mx\u001b[0m\u001b[0;34m,\u001b[0m \u001b[0mself\u001b[0m\u001b[0;34m.\u001b[0m\u001b[0munits\u001b[0m\u001b[0;34m,\u001b[0m \u001b[0mself\u001b[0m\u001b[0;34m)\u001b[0m\u001b[0;34m\u001b[0m\u001b[0;34m\u001b[0m\u001b[0m\n\u001b[1;32m   1733\u001b[0m         \u001b[0;32mexcept\u001b[0m \u001b[0mException\u001b[0m \u001b[0;32mas\u001b[0m \u001b[0me\u001b[0m\u001b[0;34m:\u001b[0m\u001b[0;34m\u001b[0m\u001b[0;34m\u001b[0m\u001b[0m\n\u001b[0;32m-> 1734\u001b[0;31m             raise munits.ConversionError('Failed to convert value(s) to axis '\n\u001b[0m\u001b[1;32m   1735\u001b[0m                                          f'units: {x!r}') from e\n\u001b[1;32m   1736\u001b[0m         \u001b[0;32mreturn\u001b[0m \u001b[0mret\u001b[0m\u001b[0;34m\u001b[0m\u001b[0;34m\u001b[0m\u001b[0m\n",
            "\u001b[0;31mConversionError\u001b[0m: Failed to convert value(s) to axis units: array(['Braund, Mr. Owen Harris',\n       'Cumings, Mrs. John Bradley (Florence Briggs Thayer)',\n       'Heikkinen, Miss. Laina',\n       'Futrelle, Mrs. Jacques Heath (Lily May Peel)',\n       'Allen, Mr. William Henry', 'Moran, Mr. James',\n       'McCarthy, Mr. Timothy J', 'Palsson, Master. Gosta Leonard',\n       'Johnson, Mrs. Oscar W (Elisabeth Vilhelmina Berg)',\n       'Nasser, Mrs. Nicholas (Adele Achem)',\n       'Sandstrom, Miss. Marguerite Rut', 'Bonnell, Miss. Elizabeth',\n       'Saundercock, Mr. William Henry', 'Andersson, Mr. Anders Johan',\n       'Vestrom, Miss. Hulda Amanda Adolfina',\n       'Hewlett, Mrs. (Mary D Kingcome) ', 'Rice, Master. Eugene',\n       'Williams, Mr. Charles Eugene',\n       'Vander Planke, Mrs. Julius (Emelia Maria Vandemoortele)',\n       'Masselmani, Mrs. Fatima', 'Fynney, Mr. Joseph J',\n       'Beesley, Mr. Lawrence', 'McGowan, Miss. Anna \"Annie\"',\n       'Sloper, Mr. William Thompson', 'Palsson, Miss. Torborg Danira',\n       'Asplund, Mrs. Carl Oscar (Selma Augusta Emilia Johansson)',\n       'Emir, Mr. Farred Chehab', 'Fortune, Mr. Charles Alexander',\n       'O\\'Dwyer, Miss. Ellen \"Nellie\"', 'Todoroff, Mr. Lalio',\n       'Uruchurtu, Don. Manuel E',\n       'Spencer, Mrs. William Augustus (Marie Eugenie)',\n       'Glynn, Miss. Mary Agatha', 'Wheadon, Mr. Edward H',\n       'Meyer, Mr. Edgar Joseph', 'Holverson, Mr. Alexander Oskar',\n       'Mamee, Mr. Hanna', 'Cann, Mr. Ernest Charles',\n       'Vander Planke, Miss. Augusta Maria',\n       'Nicola-Yarred, Miss. Jamila',\n       'Ahlin, Mrs. Johan (Johanna Persdotter Larsson)',\n       'Turpin, Mrs. William John Robert (Dorothy Ann Wonnacott)',\n       'Kraeff, Mr. Theodor', 'Laroche, Miss. Simonne Marie Anne Andree',\n       'Devaney, Miss. Margaret Delia', 'Rogers, Mr. William John',\n       'Lennon, Mr. Denis', \"O'Driscoll, Miss. Bridget\",\n       'Samaan, Mr. Youssef',\n       'Arnold-Franchi, Mrs. Josef (Josefine Franchi)',\n       'Panula, Master. Juha Niilo', 'Nosworthy, Mr. Richard Cater',\n       'Harper, Mrs. Henry Sleeper (Myna Haxtun)',\n       'Faunthorpe, Mrs. Lizzie (Elizabeth Anne Wilkinson)',\n       'Ostby, Mr. Engelhart Cornelius', 'Woolner, Mr. Hugh',\n       'Rugg, Miss. Emily', 'Novel, Mr. Mansouer',\n       'West, Miss. Constance Mirium',\n       'Goodwin, Master. William Frederick', 'Sirayanian, Mr. Orsen',\n       'Icard, Miss. Amelie', 'Harris, Mr. Henry Birkhardt',\n       'Skoog, Master. Harald', 'Stewart, Mr. Albert A',\n       'Moubarek, Master. Gerios', 'Nye, Mrs. (Elizabeth Ramell)',\n       'Crease, Mr. Ernest James', 'Andersson, Miss. Erna Alexandra',\n       'Kink, Mr. Vincenz', 'Jenkin, Mr. Stephen Curnow',\n       'Goodwin, Miss. Lillian Amy', 'Hood, Mr. Ambrose Jr',\n       'Chronopoulos, Mr. Apostolos', 'Bing, Mr. Lee',\n       'Moen, Mr. Sigurd Hansen', 'Staneff, Mr. Ivan',\n       'Moutal, Mr. Rahamin Haim', 'Caldwell, Master. Alden Gates',\n       'Dowdell, Miss. Elizabeth', 'Waelens, Mr. Achille',\n       'Sheerlinck, Mr. Jan Baptist', 'McDermott, Miss. Brigdet Delia',\n       'Carrau, Mr. Francisco M', 'Ilett, Miss. Bertha',\n       'Backstrom, Mrs. Karl Alfred (Maria Mathilda Gustafsson)',\n       'Ford, Mr. William Neal', 'Slocovski, Mr. Selman Francis',\n       'Fortune, Miss. Mabel Helen', 'Celotti, Mr. Francesco',\n       'Christmann, Mr. Emil', 'Andreasson, Mr. Paul Edvin',\n       'Chaffee, Mr. Herbert Fuller', 'Dean, Mr. Bertram Frank',\n       'Coxon, Mr. Daniel', 'Shorney, Mr. Charles Joseph',\n       'Goldschmidt, Mr. George B', 'Greenfield, Mr. William Bertram',\n       'Doling, Mrs. John T (Ada Julia Bone)', 'Kantor, Mr. Sinai',\n       'Petranec, Miss. Matilda', 'Petroff, Mr. Pastcho (\"Pentcho\")',\n       'White, Mr. Richard Frasar', 'Johansson, Mr. Gustaf Joel',\n       'Gustafsson, Mr. Anders Vilhelm', 'Mionoff, Mr. Stoytcho',\n       'Salkjelsvik, Miss. Anna Kristine', 'Moss, Mr. Albert Johan',\n       'Rekic, Mr. Tido', 'Moran, Miss. Bertha',\n       'Porter, Mr. Walter Chamberlain', 'Zabour, Miss. Hileni',\n       'Barton, Mr. David John', 'Jussila, Miss. Katriina',\n       'Attalah, Miss. Malake', 'Pekoniemi, Mr. Edvard',\n       'Connors, Mr. Patrick', 'Turpin, Mr. William John Robert',\n       'Baxter, Mr. Quigg Edmond', 'Andersson, Miss. Ellis Anna Maria',\n       'Hickman, Mr. Stanley George', 'Moore, Mr. Leonard Charles',\n       'Nasser, Mr. Nicholas', 'Webber, Miss. Susan',\n       'White, Mr. Percival Wayland', 'Nicola-Yarred, Master. Elias',\n       'McMahon, Mr. Martin', 'Madsen, Mr. Fridtjof Arne',\n       'Peter, Miss. Anna', 'Ekstrom, Mr. Johan', 'Drazenoic, Mr. Jozef',\n       'Coelho, Mr. Domingos Fernandeo',\n       'Robins, Mrs. Alexander A (Grace Charity Laury)',\n       'Weisz, Mrs. Leopold (Mathilde Francoise Pede)',\n       'Sobey, Mr. Samuel James Hayden', 'Richard, Mr. Emile',\n       'Newsom, Miss. Helen Monypeny', 'Futrelle, Mr. Jacques Heath',\n       'Osen, Mr. Olaf Elon', 'Giglio, Mr. Victor',\n       'Boulos, Mrs. Joseph (Sultana)', 'Nysten, Miss. Anna Sofia',\n       'Hakkarainen, Mrs. Pekka Pietari (Elin Matilda Dolck)',\n       'Burke, Mr. Jeremiah', 'Andrew, Mr. Edgardo Samuel',\n       'Nicholls, Mr. Joseph Charles',\n       'Andersson, Mr. August Edvard (\"Wennerstrom\")',\n       'Ford, Miss. Robina Maggie \"Ruby\"',\n       'Navratil, Mr. Michel (\"Louis M Hoffman\")',\n       'Byles, Rev. Thomas Roussel Davids', 'Bateman, Rev. Robert James',\n       'Pears, Mrs. Thomas (Edith Wearne)', 'Meo, Mr. Alfonzo',\n       'van Billiard, Mr. Austin Blyler', 'Olsen, Mr. Ole Martin',\n       'Williams, Mr. Charles Duane', 'Gilnagh, Miss. Katherine \"Katie\"',\n       'Corn, Mr. Harry', 'Smiljanic, Mr. Mile',\n       'Sage, Master. Thomas Henry', 'Cribb, Mr. John Hatfield',\n       'Watt, Mrs. James (Elizabeth \"Bessie\" Inglis Milne)',\n       'Bengtsson, Mr. John Viktor', 'Calic, Mr. Jovo',\n       'Panula, Master. Eino Viljami',\n       'Goldsmith, Master. Frank John William \"Frankie\"',\n       'Chibnall, Mrs. (Edith Martha Bowerman)',\n       'Skoog, Mrs. William (Anna Bernhardina Karlsson)',\n       'Baumann, Mr. John D', 'Ling, Mr. Lee',\n       'Van der hoef, Mr. Wyckoff', 'Rice, Master. Arthur',\n       'Johnson, Miss. Eleanor Ileen', 'Sivola, Mr. Antti Wilhelm',\n       'Smith, Mr. James Clinch', 'Klasen, Mr. Klas Albin',\n       'Lefebre, Master. Henry Forbes', 'Isham, Miss. Ann Elizabeth',\n       'Hale, Mr. Reginald', 'Leonard, Mr. Lionel',\n       'Sage, Miss. Constance Gladys', 'Pernot, Mr. Rene',\n       'Asplund, Master. Clarence Gustaf Hugo',\n       'Becker, Master. Richard F', 'Kink-Heilmann, Miss. Luise Gretchen',\n       'Rood, Mr. Hugh Roscoe',\n       'O\\'Brien, Mrs. Thomas (Johanna \"Hannah\" Godfrey)',\n       'Romaine, Mr. Charles Hallace (\"Mr C Rolmane\")',\n       'Bourke, Mr. John', 'Turcin, Mr. Stjepan', 'Pinsky, Mrs. (Rosa)',\n       'Carbines, Mr. William',\n       'Andersen-Jensen, Miss. Carla Christine Nielsine',\n       'Navratil, Master. Michel M',\n       'Brown, Mrs. James Joseph (Margaret Tobin)',\n       'Lurette, Miss. Elise', 'Mernagh, Mr. Robert',\n       'Olsen, Mr. Karl Siegwart Andreas',\n       'Madigan, Miss. Margaret \"Maggie\"',\n       'Yrois, Miss. Henriette (\"Mrs Harbeck\")',\n       'Vande Walle, Mr. Nestor Cyriel', 'Sage, Mr. Frederick',\n       'Johanson, Mr. Jakob Alfred', 'Youseff, Mr. Gerious',\n       'Cohen, Mr. Gurshon \"Gus\"', 'Strom, Miss. Telma Matilda',\n       'Backstrom, Mr. Karl Alfred', 'Albimona, Mr. Nassef Cassem',\n       'Carr, Miss. Helen \"Ellen\"', 'Blank, Mr. Henry', 'Ali, Mr. Ahmed',\n       'Cameron, Miss. Clear Annie', 'Perkin, Mr. John Henry',\n       'Givard, Mr. Hans Kristensen', 'Kiernan, Mr. Philip',\n       'Newell, Miss. Madeleine', 'Honkanen, Miss. Eliina',\n       'Jacobsohn, Mr. Sidney Samuel', 'Bazzani, Miss. Albina',\n       'Harris, Mr. Walter', 'Sunderland, Mr. Victor Francis',\n       'Bracken, Mr. James H', 'Green, Mr. George Henry',\n       'Nenkoff, Mr. Christo', 'Hoyt, Mr. Frederick Maxfield',\n       'Berglund, Mr. Karl Ivar Sven', 'Mellors, Mr. William John',\n       'Lovell, Mr. John Hall (\"Henry\")', 'Fahlstrom, Mr. Arne Jonas',\n       'Lefebre, Miss. Mathilde',\n       'Harris, Mrs. Henry Birkhardt (Irene Wallach)',\n       'Larsson, Mr. Bengt Edvin', 'Sjostedt, Mr. Ernst Adolf',\n       'Asplund, Miss. Lillian Gertrud',\n       'Leyson, Mr. Robert William Norman',\n       'Harknett, Miss. Alice Phoebe', 'Hold, Mr. Stephen',\n       'Collyer, Miss. Marjorie \"Lottie\"',\n       'Pengelly, Mr. Frederick William', 'Hunt, Mr. George Henry',\n       'Zabour, Miss. Thamine', 'Murphy, Miss. Katherine \"Kate\"',\n       'Coleridge, Mr. Reginald Charles', 'Maenpaa, Mr. Matti Alexanteri',\n       'Attalah, Mr. Sleiman', 'Minahan, Dr. William Edward',\n       'Lindahl, Miss. Agda Thorilda Viktoria',\n       'Hamalainen, Mrs. William (Anna)', 'Beckwith, Mr. Richard Leonard',\n       'Carter, Rev. Ernest Courtenay', 'Reed, Mr. James George',\n       'Strom, Mrs. Wilhelm (Elna Matilda Persson)',\n       'Stead, Mr. William Thomas', 'Lobb, Mr. William Arthur',\n       'Rosblom, Mrs. Viktor (Helena Wilhelmina)',\n       'Touma, Mrs. Darwis (Hanne Youssef Razi)',\n       'Thorne, Mrs. Gertrude Maybelle', 'Cherry, Miss. Gladys',\n       'Ward, Miss. Anna', 'Parrish, Mrs. (Lutie Davis)',\n       'Smith, Mr. Thomas', 'Asplund, Master. Edvin Rojj Felix',\n       'Taussig, Mr. Emil', 'Harrison, Mr. William', 'Henry, Miss. Delia',\n       'Reeves, Mr. David', 'Panula, Mr. Ernesti Arvid',\n       'Persson, Mr. Ernst Ulrik',\n       'Graham, Mrs. William Thompson (Edith Junkins)',\n       'Bissette, Miss. Amelia', 'Cairns, Mr. Alexander',\n       'Tornquist, Mr. William Henry',\n       'Mellinger, Mrs. (Elizabeth Anne Maidment)',\n       'Natsch, Mr. Charles H', 'Healy, Miss. Hanora \"Nora\"',\n       'Andrews, Miss. Kornelia Theodosia',\n       'Lindblom, Miss. Augusta Charlotta', 'Parkes, Mr. Francis \"Frank\"',\n       'Rice, Master. Eric', 'Abbott, Mrs. Stanton (Rosa Hunt)',\n       'Duane, Mr. Frank', 'Olsson, Mr. Nils Johan Goransson',\n       'de Pelsmaeker, Mr. Alfons', 'Dorking, Mr. Edward Arthur',\n       'Smith, Mr. Richard William', 'Stankovic, Mr. Ivan',\n       'de Mulder, Mr. Theodore', 'Naidenoff, Mr. Penko',\n       'Hosono, Mr. Masabumi', 'Connolly, Miss. Kate',\n       'Barber, Miss. Ellen \"Nellie\"',\n       'Bishop, Mrs. Dickinson H (Helen Walton)',\n       'Levy, Mr. Rene Jacques', 'Haas, Miss. Aloisia',\n       'Mineff, Mr. Ivan', 'Lewy, Mr. Ervin G', 'Hanna, Mr. Mansour',\n       'Allison, Miss. Helen Loraine', 'Saalfeld, Mr. Adolphe',\n       'Baxter, Mrs. James (Helene DeLaudeniere Chaput)',\n       'Kelly, Miss. Anna Katherine \"Annie Kate\"', 'McCoy, Mr. Bernard',\n       'Johnson, Mr. William Cahoone Jr', 'Keane, Miss. Nora A',\n       'Williams, Mr. Howard Hugh \"Harry\"',\n       'Allison, Master. Hudson Trevor', 'Fleming, Miss. Margaret',\n       'Penasco y Castellana, Mrs. Victor de Satode (Maria Josefa Perez de Soto y Vallejo)',\n       'Abelson, Mr. Samuel', 'Francatelli, Miss. Laura Mabel',\n       'Hays, Miss. Margaret Bechstein', 'Ryerson, Miss. Emily Borie',\n       'Lahtinen, Mrs. William (Anna Sylfven)', 'Hendekovic, Mr. Ignjac',\n       'Hart, Mr. Benjamin', 'Nilsson, Miss. Helmina Josefina',\n       'Kantor, Mrs. Sinai (Miriam Sternin)', 'Moraweck, Dr. Ernest',\n       'Wick, Miss. Mary Natalie',\n       'Spedden, Mrs. Frederic Oakley (Margaretta Corning Stone)',\n       'Dennis, Mr. Samuel', 'Danoff, Mr. Yoto',\n       'Slayter, Miss. Hilda Mary',\n       'Caldwell, Mrs. Albert Francis (Sylvia Mae Harbaugh)',\n       'Sage, Mr. George John Jr', 'Young, Miss. Marie Grice',\n       'Nysveen, Mr. Johan Hansen', 'Ball, Mrs. (Ada E Hall)',\n       'Goldsmith, Mrs. Frank John (Emily Alice Brown)',\n       'Hippach, Miss. Jean Gertrude', 'McCoy, Miss. Agnes',\n       'Partner, Mr. Austen', 'Graham, Mr. George Edward',\n       'Vander Planke, Mr. Leo Edmondus',\n       'Frauenthal, Mrs. Henry William (Clara Heinsheimer)',\n       'Denkoff, Mr. Mitto', 'Pears, Mr. Thomas Clinton',\n       'Burns, Miss. Elizabeth Margaret', 'Dahl, Mr. Karl Edwart',\n       'Blackwell, Mr. Stephen Weart', 'Navratil, Master. Edmond Roger',\n       'Fortune, Miss. Alice Elizabeth', 'Collander, Mr. Erik Gustaf',\n       'Sedgwick, Mr. Charles Frederick Waddington',\n       'Fox, Mr. Stanley Hubert', 'Brown, Miss. Amelia \"Mildred\"',\n       'Smith, Miss. Marion Elsie',\n       'Davison, Mrs. Thomas Henry (Mary E Finck)',\n       'Coutts, Master. William Loch \"William\"', 'Dimic, Mr. Jovan',\n       'Odahl, Mr. Nils Martin', 'Williams-Lambert, Mr. Fletcher Fellows',\n       'Elias, Mr. Tannous', 'Arnold-Franchi, Mr. Josef',\n       'Yousif, Mr. Wazli', 'Vanden Steen, Mr. Leo Peter',\n       'Bowerman, Miss. Elsie Edith', 'Funk, Miss. Annie Clemmer',\n       'McGovern, Miss. Mary', 'Mockler, Miss. Helen Mary \"Ellie\"',\n       'Skoog, Mr. Wilhelm', 'del Carlo, Mr. Sebastiano',\n       'Barbara, Mrs. (Catherine David)', 'Asim, Mr. Adola',\n       \"O'Brien, Mr. Thomas\", 'Adahl, Mr. Mauritz Nils Martin',\n       'Warren, Mrs. Frank Manley (Anna Sophia Atkinson)',\n       'Moussa, Mrs. (Mantoura Boulos)', 'Jermyn, Miss. Annie',\n       'Aubart, Mme. Leontine Pauline', 'Harder, Mr. George Achilles',\n       'Wiklund, Mr. Jakob Alfred', 'Beavan, Mr. William Thomas',\n       'Ringhini, Mr. Sante', 'Palsson, Miss. Stina Viola',\n       'Meyer, Mrs. Edgar Joseph (Leila Saks)',\n       'Landergren, Miss. Aurora Adelia', 'Widener, Mr. Harry Elkins',\n       'Betros, Mr. Tannous', 'Gustafsson, Mr. Karl Gideon',\n       'Bidois, Miss. Rosalie', 'Nakid, Miss. Maria (\"Mary\")',\n       'Tikkanen, Mr. Juho',\n       'Holverson, Mrs. Alexander Oskar (Mary Aline Towner)',\n       'Plotcharsky, Mr. Vasil', 'Davies, Mr. Charles Henry',\n       'Goodwin, Master. Sidney Leonard', 'Buss, Miss. Kate',\n       'Sadlier, Mr. Matthew', 'Lehmann, Miss. Bertha',\n       'Carter, Mr. William Ernest', 'Jansson, Mr. Carl Olof',\n       'Gustafsson, Mr. Johan Birger', 'Newell, Miss. Marjorie',\n       'Sandstrom, Mrs. Hjalmar (Agnes Charlotta Bengtsson)',\n       'Johansson, Mr. Erik', 'Olsson, Miss. Elina',\n       'McKane, Mr. Peter David', 'Pain, Dr. Alfred',\n       'Trout, Mrs. William H (Jessie L)', 'Niskanen, Mr. Juha',\n       'Adams, Mr. John', 'Jussila, Miss. Mari Aina',\n       'Hakkarainen, Mr. Pekka Pietari', 'Oreskovic, Miss. Marija',\n       'Gale, Mr. Shadrach', 'Widegren, Mr. Carl/Charles Peter',\n       'Richards, Master. William Rowe',\n       'Birkeland, Mr. Hans Martin Monsen', 'Lefebre, Miss. Ida',\n       'Sdycoff, Mr. Todor', 'Hart, Mr. Henry', 'Minahan, Miss. Daisy E',\n       'Cunningham, Mr. Alfred Fleming', 'Sundman, Mr. Johan Julian',\n       'Meek, Mrs. Thomas (Annie Louise Rowley)',\n       'Drew, Mrs. James Vivian (Lulu Thorne Christian)',\n       'Silven, Miss. Lyyli Karoliina', 'Matthews, Mr. William John',\n       'Van Impe, Miss. Catharina', 'Gheorgheff, Mr. Stanio',\n       'Charters, Mr. David', 'Zimmerman, Mr. Leo',\n       'Danbom, Mrs. Ernst Gilbert (Anna Sigrid Maria Brogren)',\n       'Rosblom, Mr. Viktor Richard', 'Wiseman, Mr. Phillippe',\n       'Clarke, Mrs. Charles V (Ada Maria Winfield)',\n       'Phillips, Miss. Kate Florence (\"Mrs Kate Louise Phillips Marshall\")',\n       'Flynn, Mr. James', 'Pickard, Mr. Berk (Berk Trembisky)',\n       'Bjornstrom-Steffansson, Mr. Mauritz Hakan',\n       'Thorneycroft, Mrs. Percival (Florence Kate White)',\n       'Louch, Mrs. Charles Alexander (Alice Adelaide Slow)',\n       'Kallio, Mr. Nikolai Erland', 'Silvey, Mr. William Baird',\n       'Carter, Miss. Lucile Polk',\n       'Ford, Miss. Doolina Margaret \"Daisy\"',\n       'Richards, Mrs. Sidney (Emily Hocking)', 'Fortune, Mr. Mark',\n       'Kvillner, Mr. Johan Henrik Johannesson',\n       'Hart, Mrs. Benjamin (Esther Ada Bloomfield)', 'Hampe, Mr. Leon',\n       'Petterson, Mr. Johan Emil', 'Reynaldo, Ms. Encarnacion',\n       'Johannesen-Bratthammer, Mr. Bernt', 'Dodge, Master. Washington',\n       'Mellinger, Miss. Madeleine Violet', 'Seward, Mr. Frederic Kimber',\n       'Baclini, Miss. Marie Catherine', 'Peuchen, Major. Arthur Godfrey',\n       'West, Mr. Edwy Arthur', 'Hagland, Mr. Ingvald Olai Olsen',\n       'Foreman, Mr. Benjamin Laventall', 'Goldenberg, Mr. Samuel L',\n       'Peduzzi, Mr. Joseph', 'Jalsevac, Mr. Ivan',\n       'Millet, Mr. Francis Davis', 'Kenyon, Mrs. Frederick R (Marion)',\n       'Toomey, Miss. Ellen', \"O'Connor, Mr. Maurice\",\n       'Anderson, Mr. Harry', 'Morley, Mr. William', 'Gee, Mr. Arthur H',\n       'Milling, Mr. Jacob Christian', 'Maisner, Mr. Simon',\n       'Goncalves, Mr. Manuel Estanslas', 'Campbell, Mr. William',\n       'Smart, Mr. John Montgomery', 'Scanlan, Mr. James',\n       'Baclini, Miss. Helene Barbara', 'Keefe, Mr. Arthur',\n       'Cacic, Mr. Luka', 'West, Mrs. Edwy Arthur (Ada Mary Worth)',\n       'Jerwan, Mrs. Amin S (Marie Marthe Thuillard)',\n       'Strandberg, Miss. Ida Sofia', 'Clifford, Mr. George Quincy',\n       'Renouf, Mr. Peter Henry', 'Braund, Mr. Lewis Richard',\n       'Karlsson, Mr. Nils August', 'Hirvonen, Miss. Hildur E',\n       'Goodwin, Master. Harold Victor',\n       'Frost, Mr. Anthony Wood \"Archie\"', 'Rouse, Mr. Richard Henry',\n       'Turkula, Mrs. (Hedwig)', 'Bishop, Mr. Dickinson H',\n       'Lefebre, Miss. Jeannie',\n       'Hoyt, Mrs. Frederick Maxfield (Jane Anne Forby)',\n       'Kent, Mr. Edward Austin', 'Somerton, Mr. Francis William',\n       'Coutts, Master. Eden Leslie \"Neville\"',\n       'Hagland, Mr. Konrad Mathias Reiersen', 'Windelov, Mr. Einar',\n       'Molson, Mr. Harry Markland', 'Artagaveytia, Mr. Ramon',\n       'Stanley, Mr. Edward Roland', 'Yousseff, Mr. Gerious',\n       'Eustis, Miss. Elizabeth Mussey',\n       'Shellard, Mr. Frederick William',\n       'Allison, Mrs. Hudson J C (Bessie Waldo Daniels)',\n       'Svensson, Mr. Olof', 'Calic, Mr. Petar', 'Canavan, Miss. Mary',\n       \"O'Sullivan, Miss. Bridget Mary\", 'Laitinen, Miss. Kristina Sofia',\n       'Maioni, Miss. Roberta',\n       'Penasco y Castellana, Mr. Victor de Satode',\n       'Quick, Mrs. Frederick Charles (Jane Richards)',\n       'Bradley, Mr. George (\"George Arthur Brayton\")',\n       'Olsen, Mr. Henry Margido', 'Lang, Mr. Fang',\n       'Daly, Mr. Eugene Patrick', 'Webber, Mr. James',\n       'McGough, Mr. James Robert',\n       'Rothschild, Mrs. Martin (Elizabeth L. Barrett)',\n       'Coleff, Mr. Satio', 'Walker, Mr. William Anderson',\n       'Lemore, Mrs. (Amelia Milley)', 'Ryan, Mr. Patrick',\n       'Angle, Mrs. William A (Florence \"Mary\" Agnes Hughes)',\n       'Pavlovic, Mr. Stefo', 'Perreault, Miss. Anne', 'Vovk, Mr. Janko',\n       'Lahoud, Mr. Sarkis',\n       'Hippach, Mrs. Louis Albert (Ida Sophia Fischer)',\n       'Kassem, Mr. Fared', 'Farrell, Mr. James', 'Ridsdale, Miss. Lucy',\n       'Farthing, Mr. John', 'Salonen, Mr. Johan Werner',\n       'Hocking, Mr. Richard George', 'Quick, Miss. Phyllis May',\n       'Toufik, Mr. Nakli', 'Elias, Mr. Joseph Jr',\n       'Peter, Mrs. Catherine (Catherine Rizk)', 'Cacic, Miss. Marija',\n       'Hart, Miss. Eva Miriam', 'Butt, Major. Archibald Willingham',\n       'LeRoy, Miss. Bertha', 'Risien, Mr. Samuel Beard',\n       'Frolicher, Miss. Hedwig Margaritha', 'Crosby, Miss. Harriet R',\n       'Andersson, Miss. Ingeborg Constanzia',\n       'Andersson, Miss. Sigrid Elisabeth', 'Beane, Mr. Edward',\n       'Douglas, Mr. Walter Donald', 'Nicholson, Mr. Arthur Ernest',\n       'Beane, Mrs. Edward (Ethel Clarke)', 'Padro y Manent, Mr. Julian',\n       'Goldsmith, Mr. Frank John', 'Davies, Master. John Morgan Jr',\n       'Thayer, Mr. John Borland Jr', 'Sharp, Mr. Percival James R',\n       \"O'Brien, Mr. Timothy\", 'Leeni, Mr. Fahim (\"Philip Zenni\")',\n       'Ohman, Miss. Velin', 'Wright, Mr. George',\n       'Duff Gordon, Lady. (Lucille Christiana Sutherland) (\"Mrs Morgan\")',\n       'Robbins, Mr. Victor', 'Taussig, Mrs. Emil (Tillie Mandelbaum)',\n       'de Messemaeker, Mrs. Guillaume Joseph (Emma)',\n       'Morrow, Mr. Thomas Rowan', 'Sivic, Mr. Husein',\n       'Norman, Mr. Robert Douglas', 'Simmons, Mr. John',\n       'Meanwell, Miss. (Marion Ogden)', 'Davies, Mr. Alfred J',\n       'Stoytcheff, Mr. Ilia',\n       'Palsson, Mrs. Nils (Alma Cornelia Berglund)',\n       'Doharr, Mr. Tannous', 'Jonsson, Mr. Carl', 'Harris, Mr. George',\n       'Appleton, Mrs. Edward Dale (Charlotte Lamson)',\n       'Flynn, Mr. John Irwin (\"Irving\")', 'Kelly, Miss. Mary',\n       'Rush, Mr. Alfred George John', 'Patchett, Mr. George',\n       'Garside, Miss. Ethel',\n       'Silvey, Mrs. William Baird (Alice Munger)',\n       'Caram, Mrs. Joseph (Maria Elias)', 'Jussila, Mr. Eiriik',\n       'Christy, Miss. Julie Rachel',\n       'Thayer, Mrs. John Borland (Marian Longstreth Morris)',\n       'Downton, Mr. William James', 'Ross, Mr. John Hugo',\n       'Paulner, Mr. Uscher', 'Taussig, Miss. Ruth',\n       'Jarvis, Mr. John Denzil', 'Frolicher-Stehli, Mr. Maxmillian',\n       'Gilinski, Mr. Eliezer', 'Murdlin, Mr. Joseph',\n       'Rintamaki, Mr. Matti',\n       'Stephenson, Mrs. Walter Bertram (Martha Eustis)',\n       'Elsbury, Mr. William James', 'Bourke, Miss. Mary',\n       'Chapman, Mr. John Henry', 'Van Impe, Mr. Jean Baptiste',\n       'Leitch, Miss. Jessie Wills', 'Johnson, Mr. Alfred',\n       'Boulos, Mr. Hanna',\n       'Duff Gordon, Sir. Cosmo Edmund (\"Mr Morgan\")',\n       'Jacobsohn, Mrs. Sidney Samuel (Amy Frances Christy)',\n       'Slabenoff, Mr. Petco', 'Harrington, Mr. Charles H',\n       'Torber, Mr. Ernst William', 'Homer, Mr. Harry (\"Mr E Haven\")',\n       'Lindell, Mr. Edvard Bengtsson', 'Karaic, Mr. Milan',\n       'Daniel, Mr. Robert Williams',\n       'Laroche, Mrs. Joseph (Juliette Marie Louise Lafargue)',\n       'Shutes, Miss. Elizabeth W',\n       'Andersson, Mrs. Anders Johan (Alfrida Konstantia Brogren)',\n       'Jardin, Mr. Jose Neto', 'Murphy, Miss. Margaret Jane',\n       'Horgan, Mr. John', 'Brocklebank, Mr. William Alfred',\n       'Herman, Miss. Alice', 'Danbom, Mr. Ernst Gilbert',\n       'Lobb, Mrs. William Arthur (Cordelia K Stanlick)',\n       'Becker, Miss. Marion Louise', 'Gavey, Mr. Lawrence',\n       'Yasbeck, Mr. Antoni', 'Kimball, Mr. Edwin Nelson Jr',\n       'Nakid, Mr. Sahid', 'Hansen, Mr. Henry Damsgaard',\n       'Bowen, Mr. David John \"Dai\"', 'Sutton, Mr. Frederick',\n       'Kirkland, Rev. Charles Leonard', 'Longley, Miss. Gretchen Fiske',\n       'Bostandyeff, Mr. Guentcho', \"O'Connell, Mr. Patrick D\",\n       'Barkworth, Mr. Algernon Henry Wilson',\n       'Lundahl, Mr. Johan Svensson', 'Stahelin-Maeglin, Dr. Max',\n       'Parr, Mr. William Henry Marsh', 'Skoog, Miss. Mabel',\n       'Davis, Miss. Mary', 'Leinonen, Mr. Antti Gustaf',\n       'Collyer, Mr. Harvey', 'Panula, Mrs. Juha (Maria Emilia Ojala)',\n       'Thorneycroft, Mr. Percival', 'Jensen, Mr. Hans Peder',\n       'Sagesser, Mlle. Emma', 'Skoog, Miss. Margit Elizabeth',\n       'Foo, Mr. Choong', 'Baclini, Miss. Eugenie',\n       'Harper, Mr. Henry Sleeper', 'Cor, Mr. Liudevit',\n       'Simonius-Blumer, Col. Oberst Alfons', 'Willey, Mr. Edward',\n       'Stanley, Miss. Amy Zillah Elsie', 'Mitkoff, Mr. Mito',\n       'Doling, Miss. Elsie', 'Kalvik, Mr. Johannes Halvorsen',\n       'O\\'Leary, Miss. Hanora \"Norah\"', 'Hegarty, Miss. Hanora \"Nora\"',\n       'Hickman, Mr. Leonard Mark', 'Radeff, Mr. Alexander',\n       'Bourke, Mrs. John (Catherine)', 'Eitemiller, Mr. George Floyd',\n       'Newell, Mr. Arthur Webster', 'Frauenthal, Dr. Henry William',\n       'Badt, Mr. Mohamed', 'Colley, Mr. Edward Pomeroy',\n       'Coleff, Mr. Peju', 'Lindqvist, Mr. Eino William',\n       'Hickman, Mr. Lewis', 'Butler, Mr. Reginald Fenton',\n       'Rommetvedt, Mr. Knud Paust', 'Cook, Mr. Jacob',\n       'Taylor, Mrs. Elmer Zebley (Juliet Cummins Wright)',\n       'Brown, Mrs. Thomas William Solomon (Elizabeth Catherine Ford)',\n       'Davidson, Mr. Thornton', 'Mitchell, Mr. Henry Michael',\n       'Wilhelms, Mr. Charles', 'Watson, Mr. Ennis Hastings',\n       'Edvardsson, Mr. Gustaf Hjalmar', 'Sawyer, Mr. Frederick Charles',\n       'Turja, Miss. Anna Sofia',\n       'Goodwin, Mrs. Frederick (Augusta Tyler)',\n       'Cardeza, Mr. Thomas Drake Martinez', 'Peters, Miss. Katie',\n       'Hassab, Mr. Hammad', 'Olsvigen, Mr. Thor Anderson',\n       'Goodwin, Mr. Charles Edward', 'Brown, Mr. Thomas William Solomon',\n       'Laroche, Mr. Joseph Philippe Lemercier',\n       'Panula, Mr. Jaako Arnold', 'Dakic, Mr. Branko',\n       'Fischer, Mr. Eberhard Thelander',\n       'Madill, Miss. Georgette Alexandra', 'Dick, Mr. Albert Adrian',\n       'Karun, Miss. Manca', 'Lam, Mr. Ali', 'Saad, Mr. Khalil',\n       'Weir, Col. John', 'Chapman, Mr. Charles Henry',\n       'Kelly, Mr. James', 'Mullens, Miss. Katherine \"Katie\"',\n       'Thayer, Mr. John Borland',\n       'Humblen, Mr. Adolf Mathias Nicolai Olsen',\n       'Astor, Mrs. John Jacob (Madeleine Talmadge Force)',\n       'Silverthorne, Mr. Spencer Victor', 'Barbara, Miss. Saiide',\n       'Gallagher, Mr. Martin', 'Hansen, Mr. Henrik Juul',\n       'Morley, Mr. Henry Samuel (\"Mr Henry Marshall\")',\n       'Kelly, Mrs. Florence \"Fannie\"',\n       'Calderhead, Mr. Edward Pennington', 'Cleaver, Miss. Alice',\n       'Moubarek, Master. Halim Gonios (\"William George\")',\n       'Mayne, Mlle. Berthe Antonine (\"Mrs de Villiers\")',\n       'Klaber, Mr. Herman', 'Taylor, Mr. Elmer Zebley',\n       'Larsson, Mr. August Viktor', 'Greenberg, Mr. Samuel',\n       'Soholt, Mr. Peter Andreas Lauritz Andersen',\n       'Endres, Miss. Caroline Louise',\n       'Troutt, Miss. Edwina Celia \"Winnie\"', 'McEvoy, Mr. Michael',\n       'Johnson, Mr. Malkolm Joackim',\n       'Harper, Miss. Annie Jessie \"Nina\"', 'Jensen, Mr. Svend Lauritz',\n       'Gillespie, Mr. William Henry', 'Hodges, Mr. Henry Price',\n       'Chambers, Mr. Norman Campbell', 'Oreskovic, Mr. Luka',\n       'Renouf, Mrs. Peter Henry (Lillian Jefferys)',\n       'Mannion, Miss. Margareth', 'Bryhl, Mr. Kurt Arnold Gottfrid',\n       'Ilmakangas, Miss. Pieta Sofia', 'Allen, Miss. Elisabeth Walton',\n       'Hassan, Mr. Houssein G N', 'Knight, Mr. Robert J',\n       'Berriman, Mr. William John', 'Troupiansky, Mr. Moses Aaron',\n       'Williams, Mr. Leslie', 'Ford, Mrs. Edward (Margaret Ann Watson)',\n       'Lesurer, Mr. Gustave J', 'Ivanoff, Mr. Kanio',\n       'Nankoff, Mr. Minko', 'Hawksford, Mr. Walter James',\n       'Cavendish, Mr. Tyrell William',\n       'Ryerson, Miss. Susan Parker \"Suzette\"', 'McNamee, Mr. Neal',\n       'Stranden, Mr. Juho', 'Crosby, Capt. Edward Gifford',\n       'Abbott, Mr. Rossmore Edward', 'Sinkkonen, Miss. Anna',\n       'Marvin, Mr. Daniel Warner', 'Connaghton, Mr. Michael',\n       'Wells, Miss. Joan', 'Moor, Master. Meier',\n       'Vande Velde, Mr. Johannes Joseph', 'Jonkoff, Mr. Lalio',\n       'Herman, Mrs. Samuel (Jane Laver)', 'Hamalainen, Master. Viljo',\n       'Carlsson, Mr. August Sigfrid', 'Bailey, Mr. Percy Andrew',\n       'Theobald, Mr. Thomas Leonard',\n       'Rothes, the Countess. of (Lucy Noel Martha Dyer-Edwards)',\n       'Garfirth, Mr. John', 'Nirva, Mr. Iisakki Antino Aijo',\n       'Barah, Mr. Hanna Assi',\n       'Carter, Mrs. William Ernest (Lucile Polk)',\n       'Eklund, Mr. Hans Linus', 'Hogeboom, Mrs. John C (Anna Andrews)',\n       'Brewe, Dr. Arthur Jackson', 'Mangan, Miss. Mary',\n       'Moran, Mr. Daniel J', 'Gronnestad, Mr. Daniel Danielsen',\n       'Lievens, Mr. Rene Aime', 'Jensen, Mr. Niels Peder',\n       'Mack, Mrs. (Mary)', 'Elias, Mr. Dibo',\n       'Hocking, Mrs. Elizabeth (Eliza Needs)',\n       'Myhrman, Mr. Pehr Fabian Oliver Malkolm', 'Tobin, Mr. Roger',\n       'Emanuel, Miss. Virginia Ethel', 'Kilgannon, Mr. Thomas J',\n       'Robert, Mrs. Edward Scott (Elisabeth Walton McMillan)',\n       'Ayoub, Miss. Banoura',\n       'Dick, Mrs. Albert Adrian (Vera Gillespie)',\n       'Long, Mr. Milton Clyde', 'Johnston, Mr. Andrew G',\n       'Ali, Mr. William', 'Harmer, Mr. Abraham (David Lishin)',\n       'Sjoblom, Miss. Anna Sofia', 'Rice, Master. George Hugh',\n       'Dean, Master. Bertram Vere', 'Guggenheim, Mr. Benjamin',\n       'Keane, Mr. Andrew \"Andy\"', 'Gaskell, Mr. Alfred',\n       'Sage, Miss. Stella Anna', 'Hoyt, Mr. William Fisher',\n       'Dantcheff, Mr. Ristiu', 'Otter, Mr. Richard',\n       'Leader, Dr. Alice (Farnham)', 'Osman, Mrs. Mara',\n       'Ibrahim Shawah, Mr. Yousseff',\n       'Van Impe, Mrs. Jean Baptiste (Rosalie Paula Govaert)',\n       'Ponesell, Mr. Martin',\n       'Collyer, Mrs. Harvey (Charlotte Annie Tate)',\n       'Carter, Master. William Thornton II',\n       'Thomas, Master. Assad Alexander', 'Hedman, Mr. Oskar Arvid',\n       'Johansson, Mr. Karl Johan', 'Andrews, Mr. Thomas Jr',\n       'Pettersson, Miss. Ellen Natalia', 'Meyer, Mr. August',\n       'Chambers, Mrs. Norman Campbell (Bertha Griggs)',\n       'Alexander, Mr. William', 'Lester, Mr. James',\n       'Slemen, Mr. Richard James', 'Andersson, Miss. Ebba Iris Alfrida',\n       'Tomlin, Mr. Ernest Portage', 'Fry, Mr. Richard',\n       'Heininen, Miss. Wendla Maria', 'Mallet, Mr. Albert',\n       'Holm, Mr. John Fredrik Alexander', 'Skoog, Master. Karl Thorsten',\n       'Hays, Mrs. Charles Melville (Clara Jennings Gregg)',\n       'Lulic, Mr. Nikola', 'Reuchlin, Jonkheer. John George',\n       'Moor, Mrs. (Beila)', 'Panula, Master. Urho Abraham',\n       'Flynn, Mr. John', 'Lam, Mr. Len', 'Mallet, Master. Andre',\n       'McCormack, Mr. Thomas Joseph',\n       'Stone, Mrs. George Nelson (Martha Evelyn)',\n       'Yasbeck, Mrs. Antoni (Selini Alexander)',\n       'Richards, Master. George Sibley', 'Saad, Mr. Amin',\n       'Augustsson, Mr. Albert', 'Allum, Mr. Owen George',\n       'Compton, Miss. Sara Rebecca', 'Pasic, Mr. Jakob',\n       'Sirota, Mr. Maurice', 'Chip, Mr. Chang', 'Marechal, Mr. Pierre',\n       'Alhomaki, Mr. Ilmari Rudolf', 'Mudd, Mr. Thomas Charles',\n       'Serepeca, Miss. Augusta', 'Lemberopolous, Mr. Peter L',\n       'Culumovic, Mr. Jeso', 'Abbing, Mr. Anthony',\n       'Sage, Mr. Douglas Bullen', 'Markoff, Mr. Marin',\n       'Harper, Rev. John',\n       'Goldenberg, Mrs. Samuel L (Edwiga Grabowska)',\n       'Andersson, Master. Sigvard Harald Elias', 'Svensson, Mr. Johan',\n       'Boulos, Miss. Nourelain', 'Lines, Miss. Mary Conover',\n       'Carter, Mrs. Ernest Courtenay (Lilian Hughes)',\n       'Aks, Mrs. Sam (Leah Rosen)',\n       'Wick, Mrs. George Dennick (Mary Hitchcock)',\n       'Daly, Mr. Peter Denis ', 'Baclini, Mrs. Solomon (Latifa Qurban)',\n       'Razi, Mr. Raihed', 'Hansen, Mr. Claus Peter',\n       'Giles, Mr. Frederick Edward',\n       'Swift, Mrs. Frederick Joel (Margaret Welles Barron)',\n       'Sage, Miss. Dorothy Edith \"Dolly\"', 'Gill, Mr. John William',\n       'Bystrom, Mrs. (Karolina)', 'Duran y More, Miss. Asuncion',\n       'Roebling, Mr. Washington Augustus II',\n       'van Melkebeke, Mr. Philemon', 'Johnson, Master. Harold Theodor',\n       'Balkic, Mr. Cerin',\n       'Beckwith, Mrs. Richard Leonard (Sallie Monypeny)',\n       'Carlsson, Mr. Frans Olof', 'Vander Cruyssen, Mr. Victor',\n       'Abelson, Mrs. Samuel (Hannah Wizosky)',\n       'Najib, Miss. Adele Kiamie \"Jane\"',\n       'Gustafsson, Mr. Alfred Ossian', 'Petroff, Mr. Nedelio',\n       'Laleff, Mr. Kristo',\n       'Potter, Mrs. Thomas Jr (Lily Alexenia Wilson)',\n       'Shelley, Mrs. William (Imanita Parrish Hall)',\n       'Markun, Mr. Johann', 'Dahlberg, Miss. Gerda Ulrika',\n       'Banfield, Mr. Frederick James', 'Sutehall, Mr. Henry Jr',\n       'Rice, Mrs. William (Margaret Norton)', 'Montvila, Rev. Juozas',\n       'Graham, Miss. Margaret Edith',\n       'Johnston, Miss. Catherine Helen \"Carrie\"',\n       'Behr, Mr. Karl Howell', 'Dooley, Mr. Patrick'], dtype=object)"
          ]
        },
        {
          "output_type": "display_data",
          "data": {
            "text/plain": [
              "<Figure size 640x480 with 1 Axes>"
            ],
            "image/png": "[encoded data removed]"
          },
          "metadata": {}
        }
      ],
      "source": [
        "titanic\n",
        "binsVal = np.arange(0,600,10)\n",
        "binsVal\n",
        "plt.hist(titanic, bins = binsVal)\n",
        "\n",
        "plt.xlabel('Fare')\n",
        "plt.ylabel('Frequency')\n",
        "plt.title('Fare Payed Histrogram')\n",
        "\n",
        "plt.show()"
      ]
    },
    {
      "cell_type": "markdown",
      "metadata": {
        "pycharm": {
          "name": "#%% md\n"
        },
        "id": "VN8zddY4u3N-"
      },
      "source": [
        "### BONUS: Create your own question and answer it."
      ]
    },
    {
      "cell_type": "code",
      "execution_count": null,
      "metadata": {
        "collapsed": true,
        "pycharm": {
          "name": "#%%\n"
        },
        "id": "xr3BOLtUu3N-"
      },
      "outputs": [],
      "source": []
    }
  ],
  "metadata": {
    "kernelspec": {
      "display_name": "Python 2",
      "language": "python",
      "name": "python2"
    },
    "language_info": {
      "codemirror_mode": {
        "name": "ipython",
        "version": 2
      },
      "file_extension": ".py",
      "mimetype": "text/x-python",
      "name": "python",
      "nbconvert_exporter": "python",
      "pygments_lexer": "ipython2",
      "version": "2.7.16"
    },
    "colab": {
      "provenance": []
    }
  },
  "nbformat": 4,
  "nbformat_minor": 0
}